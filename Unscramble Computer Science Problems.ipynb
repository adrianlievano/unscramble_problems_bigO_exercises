{
 "cells": [
  {
   "cell_type": "markdown",
   "metadata": {},
   "source": [
    "# Adrian Lievano Project 1 Submission: Unscrambling Computer Science Problems\n"
   ]
  },
  {
   "cell_type": "code",
   "execution_count": 96,
   "metadata": {},
   "outputs": [],
   "source": [
    "import csv\n",
    "with open('texts.csv', 'r') as f:\n",
    "    reader = csv.reader(f)\n",
    "    texts = list(reader)\n",
    "\n",
    "with open('calls.csv', 'r') as f:\n",
    "    reader = csv.reader(f)\n",
    "    calls = list(reader)\n"
   ]
  },
  {
   "cell_type": "markdown",
   "metadata": {},
   "source": [
    "\"\"\"\n",
    "TASK 0:\n",
    "What is the first record of texts and what is the last record of calls?\n",
    "Print messages:\n",
    "\"First record of texts, <incoming number> texts <answering number> at time <time>\"\n",
    "\"Last record of calls, <incoming number> calls <answering number> at time <time>, lasting <during> seconds\"\n",
    "\"\"\"\n",
    "\n",
    "\n",
    "\n"
   ]
  },
  {
   "cell_type": "markdown",
   "metadata": {},
   "source": [
    "## Task 0 ## "
   ]
  },
  {
   "cell_type": "markdown",
   "metadata": {},
   "source": [
    "### First Record"
   ]
  },
  {
   "cell_type": "code",
   "execution_count": 187,
   "metadata": {},
   "outputs": [
    {
     "name": "stdout",
     "output_type": "stream",
     "text": [
      "First record of texts, 97424 22395 texts 90365 06212 at time 01-09-2016 06:03:22\n"
     ]
    }
   ],
   "source": [
    "texts[0]\n",
    "\n",
    "print('First record of texts, {} texts {} at time {}'.format(texts[0][0],texts[0][1],texts[0][2]))"
   ]
  },
  {
   "cell_type": "markdown",
   "metadata": {},
   "source": [
    "### Last Record"
   ]
  },
  {
   "cell_type": "code",
   "execution_count": 188,
   "metadata": {},
   "outputs": [
    {
     "name": "stdout",
     "output_type": "stream",
     "text": [
      "Last record of calls, 98447 62998 calls (080)46304537 at time 30-09-2016 23:57:15\n"
     ]
    }
   ],
   "source": [
    "calls[-1] \n",
    "print('Last record of calls, {} calls {} at time {}'.format(calls[-1][0],calls[-1][1],calls[-1][2]))"
   ]
  },
  {
   "cell_type": "markdown",
   "metadata": {},
   "source": [
    "### Worse-Case Big O Notation Analysis "
   ]
  },
  {
   "cell_type": "markdown",
   "metadata": {},
   "source": [
    "O(1) --> indexing into a list is constant runtime; it does not depend on the input length. "
   ]
  },
  {
   "cell_type": "markdown",
   "metadata": {},
   "source": [
    "# Task 1 "
   ]
  },
  {
   "cell_type": "markdown",
   "metadata": {},
   "source": [
    "\"\"\"\n",
    "TASK 1:\n",
    "How many different telephone numbers are there in the records? \n",
    "Print a message:\n",
    "\"There are <count> different telephone numbers in the records.\"\n",
    "\"\"\""
   ]
  },
  {
   "cell_type": "markdown",
   "metadata": {},
   "source": [
    "Method 1:\n",
    "1. Find unique telephone numbers through text database (senders & receivers)\n",
    "2. Find unique telephone numbers through calls database (senders & receivers)\n",
    "3. Append\n",
    "4. Calculate len\n",
    "5. Print message"
   ]
  },
  {
   "cell_type": "code",
   "execution_count": 189,
   "metadata": {},
   "outputs": [
    {
     "name": "stdout",
     "output_type": "stream",
     "text": [
      "There are 570 different telephone numbers in the records\n"
     ]
    }
   ],
   "source": [
    "unique_num = []\n",
    "i = 0\n",
    "#check text database\n",
    "\n",
    "#check sending nums\n",
    "for i in range(len(texts)):\n",
    "    if texts[i][0] not in unique_num:\n",
    "        unique_num.append(texts[i][0])\n",
    "        \n",
    "    if texts[i][1] not in unique_num:\n",
    "        unique_num.append(texts[i][1])\n",
    "        \n",
    "#check calls database\n",
    "for i in range(len(calls)):\n",
    "    if calls[i][0] not in unique_num:\n",
    "        unique_num.append(calls[i][0])\n",
    "        \n",
    "    if calls[i][1] not in unique_num:\n",
    "        unique_num.append(calls[i][1])\n",
    "        \n",
    "print(\"There are {} different telephone numbers in the records\".format(len(unique_num)))"
   ]
  },
  {
   "cell_type": "markdown",
   "metadata": {},
   "source": [
    "### Worse-Case Big O Notation Analysis \n"
   ]
  },
  {
   "cell_type": "markdown",
   "metadata": {},
   "source": [
    "O(n) --> As the order of input scales by n, the worst case scenario means that the amount of computations increases by n. Because the for loops are not nested, we do not have O(n^2) runtime. Space complexity is O(n)."
   ]
  },
  {
   "cell_type": "markdown",
   "metadata": {},
   "source": [
    "# Task 2"
   ]
  },
  {
   "cell_type": "markdown",
   "metadata": {},
   "source": [
    "\"\"\"\n",
    "TASK 2: Which telephone number spent the longest time on the phone\n",
    "during the period? Don't forget that time spent answering a call is\n",
    "also time spent on the phone.\n",
    "Print a message:\n",
    "\"<telephone number> spent the longest time, <total time> seconds, on the phone during \n",
    "September 2016.\".\n",
    "\"\"\""
   ]
  },
  {
   "cell_type": "markdown",
   "metadata": {},
   "source": [
    "Method: \n",
    "    \n",
    "1. Find unique call numbers and increment the starting value by the duration value in the calls list, or calls[n][3], where n corresponds to that specific number\n",
    "2. Build a hash with each unique number, iterate through calls list and if the key matches the list element, n, increment the value there by the value at that key "
   ]
  },
  {
   "cell_type": "code",
   "execution_count": 190,
   "metadata": {},
   "outputs": [
    {
     "name": "stdout",
     "output_type": "stream",
     "text": [
      "(080)33251027 spent the longest time, 90456 seconds, on the phone during September 2016.\n"
     ]
    }
   ],
   "source": [
    "#find unique values\n",
    "unique_call_nums = []\n",
    "i = 0\n",
    "\n",
    "for i in range(len(calls)):\n",
    "    if calls[i][0] not in unique_call_nums:\n",
    "        unique_call_nums.append(calls[i][0])\n",
    "    if calls[i][1] not in unique_call_nums:\n",
    "        unique_call_nums.append(calls[i][1])\n",
    "        \n",
    "#build hash of unique CALL numbers and initialize to zero. O(n) runtime.\n",
    "num_hash = dict()\n",
    "for i in range(len(unique_call_nums)):\n",
    "    num_hash[unique_call_nums[i]] = 0\n",
    "    \n",
    "#iterate through calls list\n",
    "#If iterative element is in list of keys, increment that value to existing key's value.\n",
    "j = 0\n",
    "\n",
    "for j in range(len(calls)):\n",
    "    if calls[j][0] in num_hash.keys(): #O(1)\n",
    "        num_hash[calls[j][0]] += int(calls[j][3])\n",
    "        \n",
    "    if calls[j][1] in num_hash.keys(): #O(1)\n",
    "        num_hash[calls[j][1]] += int(calls[j][3])\n",
    "\n",
    "\n",
    "duration = max(num_hash.values()) #O(n)\n",
    "culprit = max(num_hash, key=num_hash.get) #O(n)\n",
    "\n",
    "print('{} spent the longest time, {} seconds, on the phone during September 2016.'.format(culprit, duration))"
   ]
  },
  {
   "cell_type": "markdown",
   "metadata": {},
   "source": [
    "### Worse-Case Big O Notation Analysis \n"
   ]
  },
  {
   "cell_type": "markdown",
   "metadata": {},
   "source": [
    "I implemented an algorithm that first (i) searches through n elements in the calls list (both sender & receiver) and builds another list that tracks if there are any unique elements. After, (ii) the code initializes a hash map with its keys each being a unique call number found in the calls list. From there, (iii) we again iterate through the calls list, length n, and search through the hash map to see if the phone number is equal to the key in the hash map, length m. Python's 'if in' high-level syntax iterates through the keys of length m. If we assume the worse case scenario, where each number in the calls list, n, is unique, m will be equal to n (m=n). Because we are looping twice, this algorithm in the worst case scenario is:\n",
    "\n",
    "O(n^2). \n",
    "\n",
    "We did, however, modify our code to include, instead of looping through keys, an if statement that checks the associated value at the designated key location, which is O(1). If we do this, our implementation can be reduced to:\n",
    "\n",
    "O(n). \n",
    "\n"
   ]
  },
  {
   "cell_type": "markdown",
   "metadata": {},
   "source": [
    "\n",
    "\n",
    "# Task 3"
   ]
  },
  {
   "cell_type": "markdown",
   "metadata": {},
   "source": [
    "\"\"\"\n",
    "TASK 3:\n",
    "(080) is the area code for fixed line telephones in Bangalore.\n",
    "Fixed line numbers include parentheses, so Bangalore numbers\n",
    "have the form (080)xxxxxxx.)\n",
    "\n",
    "Part A: Find all of the area codes and mobile prefixes called by people\n",
    "in Bangalore.\n",
    " - Fixed lines start with an area code enclosed in brackets. The area\n",
    "   codes vary in length but always begin with 0.\n",
    " - Mobile numbers have no parentheses, but have a space in the middle\n",
    "   of the number to help readability. The prefix of a mobile number\n",
    "   is its first four digits, and they always start with 7, 8 or 9.\n",
    " - Telemarketers' numbers have no parentheses or space, but they start\n",
    "   with the area code 140.\n",
    "\n",
    "Print the answer as part of a message:\n",
    "\"The numbers called by people in Bangalore have codes:\"\n",
    " <list of codes>\n",
    "The list of codes should be print out one per line in lexicographic order with no duplicates.\n",
    "\n",
    "Part B: What percentage of calls from fixed lines in Bangalore are made\n",
    "to fixed lines also in Bangalore? In other words, of all the calls made\n",
    "from a number starting with \"(080)\", what percentage of these calls\n",
    "were made to a number also starting with \"(080)\"?\n",
    "\n",
    "Print the answer as a part of a message::\n",
    "\"<percentage> percent of calls from fixed lines in Bangalore are calls\n",
    "to other fixed lines in Bangalore.\"\n",
    "The percentage should have 2 decimal digits\n",
    "\"\"\""
   ]
  },
  {
   "cell_type": "markdown",
   "metadata": {},
   "source": [
    "## Part A"
   ]
  },
  {
   "cell_type": "markdown",
   "metadata": {},
   "source": [
    "1. Find all the people with bangalore numbers in calls database that MADE phone calls.\n",
    "2. Check who they called \n",
    "3. Extract area codes & mobile prefixes \n",
    "4. build unique list\n",
    "5. identify fixed lines, mobile, and telemarketers\n",
    "5. sort lexographically\n",
    "6. Print iteratively each elemenet"
   ]
  },
  {
   "cell_type": "code",
   "execution_count": 191,
   "metadata": {},
   "outputs": [
    {
     "name": "stdout",
     "output_type": "stream",
     "text": [
      "The numbers called by people in Bangalore have codes:\n",
      "\n",
      "(022)\n",
      "(040)\n",
      "(04344)\n",
      "(044)\n",
      "(04546)\n",
      "(0471)\n",
      "(080)\n",
      "(0821)\n",
      "7406\n",
      "7795\n",
      "7813\n",
      "7829\n",
      "8151\n",
      "8152\n",
      "8301\n",
      "8431\n",
      "8714\n",
      "9008\n",
      "9019\n",
      "9035\n",
      "9036\n",
      "9241\n",
      "9242\n",
      "9341\n",
      "9342\n",
      "9343\n",
      "9400\n",
      "9448\n",
      "9449\n",
      "9526\n",
      "9656\n",
      "9738\n",
      "9740\n",
      "9741\n",
      "9742\n",
      "9844\n",
      "9845\n",
      "9900\n",
      "9961\n"
     ]
    }
   ],
   "source": [
    "i = 0\n",
    "#check calls database\n",
    "bangalore_nums = []\n",
    "called_by_banga = []\n",
    "\n",
    "#Build total list of numbers called by bangalore numbers\n",
    "for i in range(len(calls)):\n",
    "    if calls[i][0][0:5] == \"(080)\" :\n",
    "        bangalore_nums.append(calls[i][0])\n",
    "        called_by_banga.append(calls[i][1])\n",
    "\n",
    "#Build unique list of numbers called by bangalore phones\n",
    "unique_called_by_banga = []\n",
    "for i in range(len(called_by_banga)):\n",
    "    if called_by_banga[i] not in unique_called_by_banga:\n",
    "        unique_called_by_banga.append(called_by_banga[i])\n",
    "\n",
    "mobile_prefix = ['7','8','9']\n",
    "tele_pref = '140'\n",
    "pref = []\n",
    "\n",
    "for i in range(len(unique_called_by_banga)):\n",
    "    #Fixed area code identifier\n",
    "    if unique_called_by_banga[i][0] == '(':\n",
    "        fixed_pref = '('\n",
    "        p = 0\n",
    "        while unique_called_by_banga[i][p] != ')':\n",
    "            fixed_pref += unique_called_by_banga[i][p + 1]\n",
    "            p += 1\n",
    "        if fixed_pref not in pref:\n",
    "            pref.append(fixed_pref)\n",
    "    \n",
    "    #Mobile called identifier\n",
    "    if unique_called_by_banga[i][0] in mobile_prefix and unique_called_by_banga[i][0: len(mobile_prefix) + 1] not in pref:\n",
    "        pref.append(unique_called_by_banga[i][0: len(mobile_prefix) + 1])\n",
    "    \n",
    "    #Telemarketer identifier \n",
    "    if unique_called_by_banga[i][0:3] == tele_pref and unique_called_by_banga[i][0:4] not in pref:\n",
    "        pref.append(unique_called_by_banga[i][0:4])\n",
    "        \n",
    "    \n",
    "#sort call list lexographically        \n",
    "s_area_codes = sorted(pref)\n",
    "\n",
    "\n",
    "#Print area code prefixes \n",
    "print('The numbers called by people in Bangalore have codes:')\n",
    "print('')\n",
    "\n",
    "for i in range(len(s_area_codes)):\n",
    "    print('{}'.format(s_area_codes[i]))"
   ]
  },
  {
   "cell_type": "markdown",
   "metadata": {},
   "source": [
    "### Worse-Case Big O Notation Analysis \n"
   ]
  },
  {
   "cell_type": "markdown",
   "metadata": {},
   "source": [
    "O(n^2): \n",
    "In particular, there are a few sections in my code that leverage python's 'if not in' structure within a for loop. In this scenario, the worse case is O(n^2). If the input list length, n, and the unique_called_by_banga, or the secondary list, denoted length m, being checked through each loop itearation, are unique, then m will equal n, and the worse run time is 0(n^2). \n",
    "```\n",
    "unique_called_by_banga = []\n",
    "for i in range(len(called_by_banga)):\n",
    "    if called_by_banga[i] not in unique_called_by_banga:\n",
    "        unique_called_by_banga.append(called_by_banga[i])\n",
    "        \n",
    " ```\n"
   ]
  },
  {
   "cell_type": "markdown",
   "metadata": {},
   "source": [
    "## Part B"
   ]
  },
  {
   "cell_type": "code",
   "execution_count": 185,
   "metadata": {},
   "outputs": [
    {
     "name": "stdout",
     "output_type": "stream",
     "text": [
      "24.81 percent of calls from fixed lines in Bangalore are calls to other fixed lines in Bangalore.\n"
     ]
    }
   ],
   "source": [
    "i = 0\n",
    "#check calls database\n",
    "bangalore_nums = []\n",
    "called_by_banga = []\n",
    "\n",
    "#Build total list of numbers called by bangalore numbers\n",
    "for i in range(len(calls)):\n",
    "    if calls[i][0][0:5] == \"(080)\" :\n",
    "        bangalore_nums.append(calls[i][0])\n",
    "        called_by_banga.append(calls[i][1])\n",
    "\n",
    "count = 0\n",
    "for i in range(len(bangalore_nums)):\n",
    "    if (bangalore_nums[i][0:5] == \"(080)\" and called_by_banga[i][0:5] == \"(080)\"):\n",
    "        count += 1\n",
    "total_calls = len(called_by_banga)\n",
    "percent_banga_to_banga = (count/total_calls)*100.0\n",
    "print(\"%.2f percent of calls from fixed lines in Bangalore are calls to other fixed lines in Bangalore.\" % percent_banga_to_banga)\n"
   ]
  },
  {
   "cell_type": "markdown",
   "metadata": {},
   "source": [
    "### Worse-Case Big O Notation Analysis \n"
   ]
  },
  {
   "cell_type": "markdown",
   "metadata": {},
   "source": [
    "Sequential implementation of linear for loops, based on the length of the calls database with a simple conditional check, is, in the worst case scenario: \n",
    "\n",
    "O(n)."
   ]
  },
  {
   "cell_type": "markdown",
   "metadata": {},
   "source": [
    "# Task 4"
   ]
  },
  {
   "cell_type": "markdown",
   "metadata": {},
   "source": [
    "\"\"\"\n",
    "TASK 4:\n",
    "The telephone company want to identify numbers that might be doing\n",
    "telephone marketing. Create a set of possible telemarketers:\n",
    "these are numbers that make outgoing calls but never send texts,\n",
    "receive texts or receive incoming calls.\n",
    "\n",
    "Print a message:\n",
    "\"These numbers could be telemarketers: \"\n",
    "<list of numbers>\n",
    "The list of numbers should be print out one per line in lexicographic order with no duplicates.\n",
    "\"\"\"\n"
   ]
  },
  {
   "cell_type": "markdown",
   "metadata": {},
   "source": [
    "1. Telemarkers make outgoing calls; or, in the calls database, they are never in the second index\n",
    "2. Telemarkers never send texts, so we should compare the telemarkers we suspect from the prior condition and determine if any of them send a text\n",
    "3. Telemarkers should not receive texts\n"
   ]
  },
  {
   "cell_type": "code",
   "execution_count": 206,
   "metadata": {},
   "outputs": [
    {
     "name": "stdout",
     "output_type": "stream",
     "text": [
      "These numbers may be telemarkers: \n",
      "(011)21017178\n",
      "(011)68486606\n",
      "(022)21884607\n",
      "(022)22288051\n",
      "(022)28765220\n",
      "(022)28952819\n",
      "(022)29303640\n",
      "(022)30044349\n",
      "(022)32517986\n",
      "(022)34715405\n",
      "(022)37572285\n",
      "(022)38214945\n",
      "(022)39006198\n",
      "(022)40840621\n",
      "(022)44927512\n",
      "(022)45444747\n",
      "(022)46574732\n",
      "(022)47410783\n",
      "(022)60273083\n",
      "(022)62120910\n",
      "(022)65548497\n",
      "(022)66911540\n",
      "(022)68535788\n",
      "(022)69042431\n",
      "(033)25441815\n",
      "(040)26738737\n",
      "(040)30429041\n",
      "(040)34008657\n",
      "(040)36649724\n",
      "(040)66729318\n",
      "(040)69695864\n",
      "(04344)211113\n",
      "(04344)228249\n",
      "(04344)316423\n",
      "(04344)322628\n",
      "(04344)615310\n",
      "(04344)617351\n",
      "(04344)649705\n",
      "(044)20550065\n",
      "(044)22020822\n",
      "(044)24037112\n",
      "(044)25144377\n",
      "(044)27523585\n",
      "(044)27641880\n",
      "(044)30360652\n",
      "(044)30727085\n",
      "(044)38044356\n",
      "(044)41581342\n",
      "(044)45416964\n",
      "(044)45838604\n",
      "(044)48154960\n",
      "(044)49481100\n",
      "(044)49868415\n",
      "(044)69775060\n",
      "(04546)218519\n",
      "(04546)267875\n",
      "(04546)388977\n",
      "(0471)2171438\n",
      "(0471)2225098\n",
      "(0471)2953539\n",
      "(0471)4255177\n",
      "(0471)6537077\n",
      "(0471)6579079\n",
      "(080)20123809\n",
      "(080)20227149\n",
      "(080)20383942\n",
      "(080)21129907\n",
      "(080)21652896\n",
      "(080)21697299\n",
      "(080)22759842\n",
      "(080)22816760\n",
      "(080)23802940\n",
      "(080)24444677\n",
      "(080)25820765\n",
      "(080)25863765\n",
      "(080)26097534\n",
      "(080)27498339\n",
      "(080)29435303\n",
      "(080)29483476\n",
      "(080)30231886\n",
      "(080)30270642\n",
      "(080)31606520\n",
      "(080)31863188\n",
      "(080)31982490\n",
      "(080)32255824\n",
      "(080)32390650\n",
      "(080)32638303\n",
      "(080)32647101\n",
      "(080)32679828\n",
      "(080)32828889\n",
      "(080)33118033\n",
      "(080)33251027\n",
      "(080)33277651\n",
      "(080)34121098\n",
      "(080)34932254\n",
      "(080)35121497\n",
      "(080)35538852\n",
      "(080)35986130\n",
      "(080)35987804\n",
      "(080)37913009\n",
      "(080)39755879\n",
      "(080)39991213\n",
      "(080)40362016\n",
      "(080)40395498\n",
      "(080)40929452\n",
      "(080)41095396\n",
      "(080)41203315\n",
      "(080)41336994\n",
      "(080)41712046\n",
      "(080)43206415\n",
      "(080)43215621\n",
      "(080)43562014\n",
      "(080)43685310\n",
      "(080)43901222\n",
      "(080)44046839\n",
      "(080)44050207\n",
      "(080)44076727\n",
      "(080)44357306\n",
      "(080)44389098\n",
      "(080)45291968\n",
      "(080)45547058\n",
      "(080)45687418\n",
      "(080)46221576\n",
      "(080)46304537\n",
      "(080)46566171\n",
      "(080)46702492\n",
      "(080)46772413\n",
      "(080)47459867\n",
      "(080)47999451\n",
      "(080)48462898\n",
      "(080)49328664\n",
      "(080)49796269\n",
      "(080)60062475\n",
      "(080)60068611\n",
      "(080)60463379\n",
      "(080)60998034\n",
      "(080)61123756\n",
      "(080)61419142\n",
      "(080)62164823\n",
      "(080)62342282\n",
      "(080)62963633\n",
      "(080)63623429\n",
      "(080)64015211\n",
      "(080)64047472\n",
      "(080)64431120\n",
      "(080)64765396\n",
      "(080)64819785\n",
      "(080)65023950\n",
      "(080)65275591\n",
      "(080)66044294\n",
      "(080)66857551\n",
      "(080)66955387\n",
      "(080)67362492\n",
      "(080)67426410\n",
      "(080)68104927\n",
      "(080)68739140\n",
      "(080)69104549\n",
      "(080)69150162\n",
      "(080)69245029\n",
      "(080)69564399\n",
      "(080)69609453\n",
      "(080)69887826\n",
      "(0821)2135265\n",
      "(0821)3257740\n",
      "(0821)3537229\n",
      "(0821)3602212\n",
      "(0821)3774599\n",
      "(0821)4753474\n",
      "(0821)4816394\n",
      "(0821)6141380\n",
      "(08214175)358\n",
      "(0824)2022081\n",
      "(0824)2145844\n",
      "(0824)6366719\n",
      "1400481538\n",
      "1401747654\n",
      "1402316533\n",
      "1403072432\n",
      "1403579926\n",
      "1404073047\n",
      "1404368883\n",
      "1404787681\n",
      "1407539117\n",
      "1408371942\n",
      "1408409918\n",
      "1408672243\n",
      "1409421631\n",
      "1409668775\n",
      "1409994233\n",
      "70127 59322\n",
      "74064 66270\n",
      "74065 10917\n",
      "74292 23928\n",
      "74298 18325\n",
      "74298 85702\n",
      "77956 55474\n",
      "78130 36804\n",
      "78134 03625\n",
      "78135 69048\n",
      "78136 54214\n",
      "78138 93826\n",
      "78290 99865\n",
      "78291 94593\n",
      "78293 38561\n",
      "78295 20931\n",
      "78993 89387\n",
      "81513 36123\n",
      "84313 80377\n",
      "84319 52539\n",
      "87144 42283\n",
      "87144 55014\n",
      "87146 58071\n",
      "87149 75762\n",
      "89071 32787\n",
      "89071 50880\n",
      "90085 20915\n",
      "90089 69682\n",
      "90192 30758\n",
      "90193 16567\n",
      "90193 61937\n",
      "90196 73585\n",
      "90197 38885\n",
      "90199 67471\n",
      "90351 90193\n",
      "90355 49499\n",
      "90357 25284\n",
      "90368 95100\n",
      "92414 69419\n",
      "92415 66985\n",
      "92423 51078\n",
      "92426 65661\n",
      "92426 72402\n",
      "93412 26084\n",
      "93414 19669\n",
      "93426 76415\n",
      "93427 40118\n",
      "93428 98469\n",
      "93430 54160\n",
      "93432 24657\n",
      "94001 62063\n",
      "94002 85593\n",
      "94005 20878\n",
      "94489 82688\n",
      "94495 03761\n",
      "95263 76972\n",
      "95266 42732\n",
      "96569 95359\n",
      "97393 52893\n",
      "97402 57057\n",
      "97403 88244\n",
      "97404 30456\n",
      "97404 90013\n",
      "97407 84573\n",
      "97410 27512\n",
      "97414 35000\n",
      "97416 18084\n",
      "97418 46131\n",
      "97418 59299\n",
      "97419 90520\n",
      "97425 79921\n",
      "97426 64618\n",
      "97427 87999\n",
      "97429 02055\n",
      "97442 45192\n",
      "98440 71648\n",
      "98442 73671\n",
      "98443 72004\n",
      "98444 16192\n",
      "98444 63396\n",
      "98445 27876\n",
      "98445 71741\n",
      "98445 85687\n",
      "98447 62998\n",
      "98448 88411\n",
      "98453 94494\n",
      "98457 75681\n",
      "98458 94162\n",
      "98459 20681\n",
      "99002 80226\n",
      "99617 25274\n"
     ]
    }
   ],
   "source": [
    "#check calls database\n",
    "#gets only callers\n",
    "unique_num_callers = []\n",
    "i = 0\n",
    "j = 0\n",
    "\n",
    "for i in range(len(calls)):\n",
    "    if calls[i][0] not in unique_num_callers:\n",
    "        unique_num_callers.append(calls[i][0])\n",
    "\n",
    "sender_texts = []\n",
    "\n",
    "for j in range(len(texts)):\n",
    "        if texts[j][0] not in sender_texts:\n",
    "            sender_texts.append(texts[j][0])\n",
    "\n",
    "sorted(sender_texts)\n",
    "sorted(unique_num_callers)\n",
    "\n",
    "for ele in sender_texts:\n",
    "    if ele in unique_num_callers:\n",
    "        unique_num_callers.remove(ele)\n",
    "\n",
    "tele_nums = sorted(unique_num_callers)\n",
    "\n",
    "print(\"These numbers may be telemarkers: \")\n",
    "for i in tele_nums:\n",
    "    print('{}'.format(i))\n"
   ]
  },
  {
   "cell_type": "markdown",
   "metadata": {},
   "source": [
    "### Worse-Case Big O Notation Analysis \n"
   ]
  },
  {
   "cell_type": "markdown",
   "metadata": {},
   "source": [
    "This is a brute force algorithm, where we build two lists, using linear algorithms, and then check if the element in the sender list is in the calling list. Because the worse case scenario could mean checking n elements from the sender list to m elements, this is a:\n",
    "\n",
    "O(n^n) algorithm, or O(n!). \n"
   ]
  },
  {
   "cell_type": "code",
   "execution_count": null,
   "metadata": {},
   "outputs": [],
   "source": []
  }
 ],
 "metadata": {
  "kernelspec": {
   "display_name": "Python 3",
   "language": "python",
   "name": "python3"
  },
  "language_info": {
   "codemirror_mode": {
    "name": "ipython",
    "version": 3
   },
   "file_extension": ".py",
   "mimetype": "text/x-python",
   "name": "python",
   "nbconvert_exporter": "python",
   "pygments_lexer": "ipython3",
   "version": "3.6.4"
  }
 },
 "nbformat": 4,
 "nbformat_minor": 2
}
