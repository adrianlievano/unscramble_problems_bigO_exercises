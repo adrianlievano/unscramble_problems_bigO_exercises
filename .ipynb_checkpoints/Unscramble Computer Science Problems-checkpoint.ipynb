{
 "cells": [
  {
   "cell_type": "markdown",
   "metadata": {},
   "source": [
    "# Adrian Lievano Project 1 Submission: Unscrambling Computer Science Problems\n"
   ]
  },
  {
   "cell_type": "code",
   "execution_count": 96,
   "metadata": {},
   "outputs": [],
   "source": [
    "import csv\n",
    "with open('texts.csv', 'r') as f:\n",
    "    reader = csv.reader(f)\n",
    "    texts = list(reader)\n",
    "\n",
    "with open('calls.csv', 'r') as f:\n",
    "    reader = csv.reader(f)\n",
    "    calls = list(reader)\n"
   ]
  },
  {
   "cell_type": "markdown",
   "metadata": {},
   "source": [
    "\"\"\"\n",
    "TASK 0:\n",
    "What is the first record of texts and what is the last record of calls?\n",
    "Print messages:\n",
    "\"First record of texts, <incoming number> texts <answering number> at time <time>\"\n",
    "\"Last record of calls, <incoming number> calls <answering number> at time <time>, lasting <during> seconds\"\n",
    "\"\"\"\n",
    "\n",
    "\n",
    "\n"
   ]
  },
  {
   "cell_type": "markdown",
   "metadata": {},
   "source": [
    "## Task 0 ## "
   ]
  },
  {
   "cell_type": "markdown",
   "metadata": {},
   "source": [
    "### First Record"
   ]
  },
  {
   "cell_type": "code",
   "execution_count": 187,
   "metadata": {},
   "outputs": [
    {
     "name": "stdout",
     "output_type": "stream",
     "text": [
      "First record of texts, 97424 22395 texts 90365 06212 at time 01-09-2016 06:03:22\n"
     ]
    }
   ],
   "source": [
    "texts[0]\n",
    "\n",
    "print('First record of texts, {} texts {} at time {}'.format(texts[0][0],texts[0][1],texts[0][2]))"
   ]
  },
  {
   "cell_type": "markdown",
   "metadata": {},
   "source": [
    "### Last Record"
   ]
  },
  {
   "cell_type": "code",
   "execution_count": 188,
   "metadata": {},
   "outputs": [
    {
     "name": "stdout",
     "output_type": "stream",
     "text": [
      "Last record of calls, 98447 62998 calls (080)46304537 at time 30-09-2016 23:57:15\n"
     ]
    }
   ],
   "source": [
    "calls[-1] \n",
    "print('Last record of calls, {} calls {} at time {}'.format(calls[-1][0],calls[-1][1],calls[-1][2]))"
   ]
  },
  {
   "cell_type": "markdown",
   "metadata": {},
   "source": [
    "### Worse-Case Big O Notation Analysis "
   ]
  },
  {
   "cell_type": "markdown",
   "metadata": {},
   "source": [
    "O(1) --> indexing into a list is constant runtime; it does not depend on the input length. "
   ]
  },
  {
   "cell_type": "markdown",
   "metadata": {},
   "source": [
    "# Task 1 "
   ]
  },
  {
   "cell_type": "markdown",
   "metadata": {},
   "source": [
    "\"\"\"\n",
    "TASK 1:\n",
    "How many different telephone numbers are there in the records? \n",
    "Print a message:\n",
    "\"There are <count> different telephone numbers in the records.\"\n",
    "\"\"\""
   ]
  },
  {
   "cell_type": "markdown",
   "metadata": {},
   "source": [
    "Method 1:\n",
    "1. Find unique telephone numbers through text database (senders & receivers)\n",
    "2. Find unique telephone numbers through calls database (senders & receivers)\n",
    "3. Append\n",
    "4. Calculate len\n",
    "5. Print message"
   ]
  },
  {
   "cell_type": "code",
   "execution_count": 189,
   "metadata": {},
   "outputs": [
    {
     "name": "stdout",
     "output_type": "stream",
     "text": [
      "There are 570 different telephone numbers in the records\n"
     ]
    }
   ],
   "source": [
    "unique_num = []\n",
    "i = 0\n",
    "#check text database\n",
    "\n",
    "#check sending nums\n",
    "for i in range(len(texts)):\n",
    "    if texts[i][0] not in unique_num:\n",
    "        unique_num.append(texts[i][0])\n",
    "        \n",
    "    if texts[i][1] not in unique_num:\n",
    "        unique_num.append(texts[i][1])\n",
    "        \n",
    "#check calls database\n",
    "for i in range(len(calls)):\n",
    "    if calls[i][0] not in unique_num:\n",
    "        unique_num.append(calls[i][0])\n",
    "        \n",
    "    if calls[i][1] not in unique_num:\n",
    "        unique_num.append(calls[i][1])\n",
    "        \n",
    "print(\"There are {} different telephone numbers in the records\".format(len(unique_num)))"
   ]
  },
  {
   "cell_type": "markdown",
   "metadata": {},
   "source": [
    "### Worse-Case Big O Notation Analysis \n"
   ]
  },
  {
   "cell_type": "markdown",
   "metadata": {},
   "source": [
    "O(n) --> As the order of input scales by n, the worst case scenario means that the amount of computations increases by n. Because the for loops are not nested, we do not have O(n^2) runtime. Space complexity is O(n)."
   ]
  },
  {
   "cell_type": "markdown",
   "metadata": {},
   "source": [
    "# Task 2"
   ]
  },
  {
   "cell_type": "markdown",
   "metadata": {},
   "source": [
    "\"\"\"\n",
    "TASK 2: Which telephone number spent the longest time on the phone\n",
    "during the period? Don't forget that time spent answering a call is\n",
    "also time spent on the phone.\n",
    "Print a message:\n",
    "\"<telephone number> spent the longest time, <total time> seconds, on the phone during \n",
    "September 2016.\".\n",
    "\"\"\""
   ]
  },
  {
   "cell_type": "markdown",
   "metadata": {},
   "source": [
    "Method: \n",
    "    \n",
    "1. Find unique call numbers and increment the starting value by the duration value in the calls list, or calls[n][3], where n corresponds to that specific number\n",
    "2. Build a hash with each unique number, iterate through calls list and if the key matches the list element, n, increment the value there by the value at that key "
   ]
  },
  {
   "cell_type": "code",
   "execution_count": 190,
   "metadata": {},
   "outputs": [
    {
     "name": "stdout",
     "output_type": "stream",
     "text": [
      "(080)33251027 spent the longest time, 90456 seconds, on the phone during September 2016.\n"
     ]
    }
   ],
   "source": [
    "#find unique values\n",
    "unique_call_nums = []\n",
    "i = 0\n",
    "\n",
    "for i in range(len(calls)):\n",
    "    if calls[i][0] not in unique_call_nums:\n",
    "        unique_call_nums.append(calls[i][0])\n",
    "    if calls[i][1] not in unique_call_nums:\n",
    "        unique_call_nums.append(calls[i][1])\n",
    "        \n",
    "#build hash of unique CALL numbers and initialize to zero. O(n) runtime.\n",
    "num_hash = dict()\n",
    "for i in range(len(unique_call_nums)):\n",
    "    num_hash[unique_call_nums[i]] = 0\n",
    "    \n",
    "#iterate through calls list\n",
    "#If iterative element is in list of keys, increment that value to existing key's value.\n",
    "j = 0\n",
    "\n",
    "for j in range(len(calls)):\n",
    "    if calls[j][0] in num_hash.keys(): #O(1)\n",
    "        num_hash[calls[j][0]] += int(calls[j][3])\n",
    "        \n",
    "    if calls[j][1] in num_hash.keys(): #O(1)\n",
    "        num_hash[calls[j][1]] += int(calls[j][3])\n",
    "\n",
    "\n",
    "duration = max(num_hash.values()) #O(n)\n",
    "culprit = max(num_hash, key=num_hash.get) #O(n)\n",
    "\n",
    "print('{} spent the longest time, {} seconds, on the phone during September 2016.'.format(culprit, duration))"
   ]
  },
  {
   "cell_type": "markdown",
   "metadata": {},
   "source": [
    "### Worse-Case Big O Notation Analysis \n"
   ]
  },
  {
   "cell_type": "markdown",
   "metadata": {},
   "source": [
    "I implemented an algorithm that first (i) searches through n elements in the calls list (both sender & receiver) and builds another list that tracks if there are any unique elements. After, (ii) the code initializes a hash map with its keys each being a unique call number found in the calls list. From there, (iii) we again iterate through the calls list, length n, and search through the hash map to see if the phone number is equal to the key in the hash map, length m. Python's 'if in' high-level syntax iterates through the keys of length m. If we assume the worse case scenario, where each number in the calls list, n, is unique, m will be equal to n (m=n). Because we are looping twice, this algorithm in the worst case scenario is:\n",
    "\n",
    "O(n^2). \n",
    "\n",
    "We did, however, modify our code to include, instead of looping through keys, an if statement that checks the associated value at the designated key location, which is O(1). If we do this, our implementation can be reduced to:\n",
    "\n",
    "O(n). \n",
    "\n"
   ]
  },
  {
   "cell_type": "markdown",
   "metadata": {},
   "source": [
    "\n",
    "\n",
    "# Task 3"
   ]
  },
  {
   "cell_type": "markdown",
   "metadata": {},
   "source": [
    "\"\"\"\n",
    "TASK 3:\n",
    "(080) is the area code for fixed line telephones in Bangalore.\n",
    "Fixed line numbers include parentheses, so Bangalore numbers\n",
    "have the form (080)xxxxxxx.)\n",
    "\n",
    "Part A: Find all of the area codes and mobile prefixes called by people\n",
    "in Bangalore.\n",
    " - Fixed lines start with an area code enclosed in brackets. The area\n",
    "   codes vary in length but always begin with 0.\n",
    " - Mobile numbers have no parentheses, but have a space in the middle\n",
    "   of the number to help readability. The prefix of a mobile number\n",
    "   is its first four digits, and they always start with 7, 8 or 9.\n",
    " - Telemarketers' numbers have no parentheses or space, but they start\n",
    "   with the area code 140.\n",
    "\n",
    "Print the answer as part of a message:\n",
    "\"The numbers called by people in Bangalore have codes:\"\n",
    " <list of codes>\n",
    "The list of codes should be print out one per line in lexicographic order with no duplicates.\n",
    "\n",
    "Part B: What percentage of calls from fixed lines in Bangalore are made\n",
    "to fixed lines also in Bangalore? In other words, of all the calls made\n",
    "from a number starting with \"(080)\", what percentage of these calls\n",
    "were made to a number also starting with \"(080)\"?\n",
    "\n",
    "Print the answer as a part of a message::\n",
    "\"<percentage> percent of calls from fixed lines in Bangalore are calls\n",
    "to other fixed lines in Bangalore.\"\n",
    "The percentage should have 2 decimal digits\n",
    "\"\"\""
   ]
  },
  {
   "cell_type": "markdown",
   "metadata": {},
   "source": [
    "## Part A"
   ]
  },
  {
   "cell_type": "markdown",
   "metadata": {},
   "source": [
    "1. Find all the people with bangalore numbers in calls database that MADE phone calls.\n",
    "2. Check who they called \n",
    "3. Extract area codes & mobile prefixes \n",
    "4. build unique list\n",
    "5. identify fixed lines, mobile, and telemarketers\n",
    "5. sort lexographically\n",
    "6. Print iteratively each elemenet"
   ]
  },
  {
   "cell_type": "code",
   "execution_count": 191,
   "metadata": {},
   "outputs": [
    {
     "name": "stdout",
     "output_type": "stream",
     "text": [
      "The numbers called by people in Bangalore have codes:\n",
      "\n",
      "(022)\n",
      "(040)\n",
      "(04344)\n",
      "(044)\n",
      "(04546)\n",
      "(0471)\n",
      "(080)\n",
      "(0821)\n",
      "7406\n",
      "7795\n",
      "7813\n",
      "7829\n",
      "8151\n",
      "8152\n",
      "8301\n",
      "8431\n",
      "8714\n",
      "9008\n",
      "9019\n",
      "9035\n",
      "9036\n",
      "9241\n",
      "9242\n",
      "9341\n",
      "9342\n",
      "9343\n",
      "9400\n",
      "9448\n",
      "9449\n",
      "9526\n",
      "9656\n",
      "9738\n",
      "9740\n",
      "9741\n",
      "9742\n",
      "9844\n",
      "9845\n",
      "9900\n",
      "9961\n"
     ]
    }
   ],
   "source": [
    "i = 0\n",
    "#check calls database\n",
    "bangalore_nums = []\n",
    "called_by_banga = []\n",
    "\n",
    "#Build total list of numbers called by bangalore numbers\n",
    "for i in range(len(calls)):\n",
    "    if calls[i][0][0:5] == \"(080)\" :\n",
    "        bangalore_nums.append(calls[i][0])\n",
    "        called_by_banga.append(calls[i][1])\n",
    "\n",
    "#Build unique list of numbers called by bangalore phones\n",
    "unique_called_by_banga = []\n",
    "for i in range(len(called_by_banga)):\n",
    "    if called_by_banga[i] not in unique_called_by_banga:\n",
    "        unique_called_by_banga.append(called_by_banga[i])\n",
    "\n",
    "mobile_prefix = ['7','8','9']\n",
    "tele_pref = '140'\n",
    "pref = []\n",
    "\n",
    "for i in range(len(unique_called_by_banga)):\n",
    "    #Fixed area code identifier\n",
    "    if unique_called_by_banga[i][0] == '(':\n",
    "        fixed_pref = '('\n",
    "        p = 0\n",
    "        while unique_called_by_banga[i][p] != ')':\n",
    "            fixed_pref += unique_called_by_banga[i][p + 1]\n",
    "            p += 1\n",
    "        if fixed_pref not in pref:\n",
    "            pref.append(fixed_pref)\n",
    "    \n",
    "    #Mobile called identifier\n",
    "    if unique_called_by_banga[i][0] in mobile_prefix and unique_called_by_banga[i][0: len(mobile_prefix) + 1] not in pref:\n",
    "        pref.append(unique_called_by_banga[i][0: len(mobile_prefix) + 1])\n",
    "    \n",
    "    #Telemarketer identifier \n",
    "    if unique_called_by_banga[i][0:3] == tele_pref and unique_called_by_banga[i][0:4] not in pref:\n",
    "        pref.append(unique_called_by_banga[i][0:4])\n",
    "        \n",
    "    \n",
    "#sort call list lexographically        \n",
    "s_area_codes = sorted(pref)\n",
    "\n",
    "\n",
    "#Print area code prefixes \n",
    "print('The numbers called by people in Bangalore have codes:')\n",
    "print('')\n",
    "\n",
    "for i in range(len(s_area_codes)):\n",
    "    print('{}'.format(s_area_codes[i]))"
   ]
  },
  {
   "cell_type": "markdown",
   "metadata": {},
   "source": [
    "### Worse-Case Big O Notation Analysis \n"
   ]
  },
  {
   "cell_type": "markdown",
   "metadata": {},
   "source": [
    "O(n^2): \n",
    "In particular, there are a few sections in my code that leverage python's 'if not in' structure within a for loop. In this scenario, the worse case is O(n^2). If the input list length, n, and the unique_called_by_banga, or the secondary list, denoted length m, being checked through each loop itearation, are unique, then m will equal n, and the worse run time is 0(n^2). \n",
    "```\n",
    "unique_called_by_banga = []\n",
    "for i in range(len(called_by_banga)):\n",
    "    if called_by_banga[i] not in unique_called_by_banga:\n",
    "        unique_called_by_banga.append(called_by_banga[i])\n",
    "        \n",
    " ```\n"
   ]
  },
  {
   "cell_type": "markdown",
   "metadata": {},
   "source": [
    "## Part B"
   ]
  },
  {
   "cell_type": "code",
   "execution_count": 185,
   "metadata": {},
   "outputs": [
    {
     "name": "stdout",
     "output_type": "stream",
     "text": [
      "24.81 percent of calls from fixed lines in Bangalore are calls to other fixed lines in Bangalore.\n"
     ]
    }
   ],
   "source": [
    "i = 0\n",
    "#check calls database\n",
    "bangalore_nums = []\n",
    "called_by_banga = []\n",
    "\n",
    "#Build total list of numbers called by bangalore numbers\n",
    "for i in range(len(calls)):\n",
    "    if calls[i][0][0:5] == \"(080)\" :\n",
    "        bangalore_nums.append(calls[i][0])\n",
    "        called_by_banga.append(calls[i][1])\n",
    "\n",
    "count = 0\n",
    "for i in range(len(bangalore_nums)):\n",
    "    if (bangalore_nums[i][0:5] == \"(080)\" and called_by_banga[i][0:5] == \"(080)\"):\n",
    "        count += 1\n",
    "total_calls = len(called_by_banga)\n",
    "percent_banga_to_banga = (count/total_calls)*100.0\n",
    "print(\"%.2f percent of calls from fixed lines in Bangalore are calls to other fixed lines in Bangalore.\" % percent_banga_to_banga)\n"
   ]
  },
  {
   "cell_type": "markdown",
   "metadata": {},
   "source": [
    "### Worse-Case Big O Notation Analysis \n"
   ]
  },
  {
   "cell_type": "markdown",
   "metadata": {},
   "source": [
    "Sequential implementation of linear for loops, based on the length of the calls database with a simple conditional check, is, in the worst case scenario: \n",
    "\n",
    "O(n)."
   ]
  },
  {
   "cell_type": "markdown",
   "metadata": {},
   "source": [
    "# Task 4"
   ]
  },
  {
   "cell_type": "code",
   "execution_count": null,
   "metadata": {},
   "outputs": [],
   "source": []
  },
  {
   "cell_type": "code",
   "execution_count": null,
   "metadata": {},
   "outputs": [],
   "source": []
  },
  {
   "cell_type": "code",
   "execution_count": null,
   "metadata": {},
   "outputs": [],
   "source": []
  },
  {
   "cell_type": "code",
   "execution_count": null,
   "metadata": {},
   "outputs": [],
   "source": []
  }
 ],
 "metadata": {
  "kernelspec": {
   "display_name": "Python 3",
   "language": "python",
   "name": "python3"
  },
  "language_info": {
   "codemirror_mode": {
    "name": "ipython",
    "version": 3
   },
   "file_extension": ".py",
   "mimetype": "text/x-python",
   "name": "python",
   "nbconvert_exporter": "python",
   "pygments_lexer": "ipython3",
   "version": "3.6.4"
  }
 },
 "nbformat": 4,
 "nbformat_minor": 2
}
